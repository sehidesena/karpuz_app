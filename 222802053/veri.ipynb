{
 "cells": [
  {
   "cell_type": "code",
   "execution_count": 1,
   "metadata": {},
   "outputs": [],
   "source": [
    "import pandas as pd\n",
    "import numpy as np\n",
    "\n",
    "# Rastgele veriler oluştur\n",
    "np.random.seed(42)  # Sonuçların tekrar üretilebilir olması için seed belirle\n",
    "boyut = np.random.choice(['küçük', 'orta', 'büyük'], size=100)\n",
    "agirlik = np.random.uniform(2, 10, size=100)\n",
    "renk = np.random.choice(['açık yeşil', 'koyu yeşil'], size=100)\n",
    "seker_orani = np.random.uniform(8, 15, size=100)\n",
    "hasat_tarihi = pd.to_datetime(np.random.choice(pd.date_range('2024-06-01', '2024-09-30'), size=100))\n",
    "\n",
    "# Fiyat hesaplama (örnek formül)\n",
    "fiyat = 5 + 0.8 * agirlik + 2 * (boyut == 'büyük') + 0.5 * seker_orani + np.random.normal(0, 1, size=100)\n",
    "\n",
    "\n",
    "# DataFrame oluştur\n",
    "df = pd.DataFrame({'boyut': boyut, \n",
    "                   'agirlik': agirlik, \n",
    "                   'renk': renk, \n",
    "                   'seker_orani': seker_orani, \n",
    "                   'hasat_tarihi': hasat_tarihi, \n",
    "                   'fiyat': fiyat})\n",
    "\n",
    "# Veriyi CSV dosyasına kaydet\n",
    "df.to_csv('veri.csv', index=False)"
   ]
  }
 ],
 "metadata": {
  "kernelspec": {
   "display_name": "Python 3",
   "language": "python",
   "name": "python3"
  },
  "language_info": {
   "codemirror_mode": {
    "name": "ipython",
    "version": 3
   },
   "file_extension": ".py",
   "mimetype": "text/x-python",
   "name": "python",
   "nbconvert_exporter": "python",
   "pygments_lexer": "ipython3",
   "version": "3.12.5"
  }
 },
 "nbformat": 4,
 "nbformat_minor": 2
}
