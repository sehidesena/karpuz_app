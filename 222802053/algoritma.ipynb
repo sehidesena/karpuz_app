{
 "cells": [
  {
   "cell_type": "code",
   "execution_count": 1,
   "metadata": {},
   "outputs": [
    {
     "name": "stdout",
     "output_type": "stream",
     "text": [
      "En iyi model: Ridge (RMSE: 1.46)\n"
     ]
    },
    {
     "name": "stderr",
     "output_type": "stream",
     "text": [
      "c:\\Users\\senad\\AppData\\Local\\Programs\\Python\\Python312\\Lib\\site-packages\\sklearn\\neural_network\\_multilayer_perceptron.py:691: ConvergenceWarning: Stochastic Optimizer: Maximum iterations (200) reached and the optimization hasn't converged yet.\n",
      "  warnings.warn(\n"
     ]
    },
    {
     "data": {
      "text/plain": [
       "['eniyi.joblib']"
      ]
     },
     "execution_count": 1,
     "metadata": {},
     "output_type": "execute_result"
    }
   ],
   "source": [
    "import pandas as pd\n",
    "from sklearn.model_selection import train_test_split\n",
    "from sklearn.preprocessing import OneHotEncoder, StandardScaler\n",
    "import pickle\n",
    "\n",
    "# Veriyi yükle\n",
    "df = pd.read_csv('veri.csv')\n",
    "\n",
    "# 'hasat_tarihi' sütununu datetime tipine dönüştür\n",
    "df['hasat_tarihi'] = pd.to_datetime(df['hasat_tarihi'])\n",
    "\n",
    "# Kategorik özellikleri one-hot encoding ile dönüştür\n",
    "encoder = OneHotEncoder(handle_unknown='ignore')\n",
    "encoded_features = encoder.fit_transform(df[['boyut', 'renk']]).toarray()\n",
    "encoded_df = pd.DataFrame(encoded_features)\n",
    "df = pd.concat([df, encoded_df], axis=1)\n",
    "df.drop(['boyut', 'renk'], axis=1, inplace=True)\n",
    "\n",
    "# Tarih bilgisinden özellikler çıkar\n",
    "df['hasat_ayi'] = df['hasat_tarihi'].dt.month\n",
    "df['hasat_gunu'] = df['hasat_tarihi'].dt.day\n",
    "df.drop('hasat_tarihi', axis=1, inplace=True)\n",
    "\n",
    "# Özellikleri ve hedefi ayır\n",
    "X = df.drop('fiyat', axis=1)\n",
    "y = df['fiyat']\n",
    "\n",
    "# Veriyi eğitim ve test kümelerine ayır\n",
    "X_train, X_test, y_train, y_test = train_test_split(X, y, test_size=0.2, random_state=42)\n",
    "\n",
    "# Sütun adlarını stringe dönüştür\n",
    "X_train.columns = X_train.columns.astype(str)\n",
    "X_test.columns = X_test.columns.astype(str)\n",
    "\n",
    "# Sayısal özellikleri ölçeklendir\n",
    "scaler = StandardScaler()\n",
    "X_train = scaler.fit_transform(X_train)\n",
    "X_test = scaler.transform(X_test)\n",
    "\n",
    "# X_train verilerinin ortalamasını ve standart sapmasını kaydet\n",
    "X_train_mean = scaler.mean_\n",
    "X_train_scale = scaler.scale_\n",
    "\n",
    "# Ortalama ve standart sapmayı pickle ile kaydet\n",
    "with open('scaler_params.pkl', 'wb') as f:\n",
    "    pickle.dump((X_train_mean, X_train_scale), f)\n",
    "\n",
    "from sklearn.linear_model import LinearRegression, Ridge, Lasso, ElasticNet\n",
    "from sklearn.tree import DecisionTreeRegressor\n",
    "from sklearn.ensemble import RandomForestRegressor, GradientBoostingRegressor\n",
    "from sklearn.svm import SVR\n",
    "from sklearn.neighbors import KNeighborsRegressor\n",
    "from sklearn.neural_network import MLPRegressor\n",
    "from sklearn.metrics import mean_squared_error\n",
    "\n",
    "models = {\n",
    "    'LinearRegression': LinearRegression(),\n",
    "    'Ridge': Ridge(),\n",
    "    'Lasso': Lasso(),\n",
    "    'ElasticNet': ElasticNet(),\n",
    "    'DecisionTreeRegressor': DecisionTreeRegressor(),\n",
    "    'RandomForestRegressor': RandomForestRegressor(),\n",
    "    'GradientBoostingRegressor': GradientBoostingRegressor(),\n",
    "    'SVR': SVR(),\n",
    "    'KNeighborsRegressor': KNeighborsRegressor(),\n",
    "    'MLPRegressor': MLPRegressor()\n",
    "}\n",
    "\n",
    "results = {}\n",
    "for name, model in models.items():\n",
    "    model.fit(X_train, y_train)\n",
    "    y_pred = model.predict(X_test)\n",
    "    rmse = mean_squared_error(y_test, y_pred)  # squared parametresi olmadan\n",
    "    results[name] = rmse\n",
    "\n",
    "# Döngüden sonra en iyi modeli bul\n",
    "best_model_name = min(results, key=results.get)\n",
    "best_model = models[best_model_name]\n",
    "print(f\"En iyi model: {best_model_name} (RMSE: {results[best_model_name]:.2f})\")\n",
    "\n",
    "import joblib\n",
    "joblib.dump(best_model, 'eniyi.joblib')"
   ]
  }
 ],
 "metadata": {
  "kernelspec": {
   "display_name": "Python 3",
   "language": "python",
   "name": "python3"
  },
  "language_info": {
   "codemirror_mode": {
    "name": "ipython",
    "version": 3
   },
   "file_extension": ".py",
   "mimetype": "text/x-python",
   "name": "python",
   "nbconvert_exporter": "python",
   "pygments_lexer": "ipython3",
   "version": "3.12.5"
  }
 },
 "nbformat": 4,
 "nbformat_minor": 2
}
